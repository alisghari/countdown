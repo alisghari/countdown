{
  "nbformat": 4,
  "nbformat_minor": 0,
  "metadata": {
    "colab": {
      "name": "countdown.ipynb",
      "provenance": []
    },
    "kernelspec": {
      "name": "python3",
      "display_name": "Python 3"
    },
    "language_info": {
      "name": "python"
    }
  },
  "cells": [
    {
      "cell_type": "code",
      "execution_count": 13,
      "metadata": {
        "colab": {
          "base_uri": "https://localhost:8080/"
        },
        "id": "FaQUrKa9QXXV",
        "outputId": "7b60cd34-ec85-4a23-e0d2-ea8acb7b0296"
      },
      "outputs": [
        {
          "output_type": "stream",
          "name": "stdout",
          "text": [
            "Enter the time in seconds: 5\n",
            "Fire in the hole!!\n"
          ]
        }
      ],
      "source": [
        "def countdown(t):\n",
        "    \n",
        "    while t:\n",
        "        mins, secs = divmod(t, 60)\n",
        "        timer = '{:02d}:{:02d}'.format(mins, secs)\n",
        "        print (timer, end=\"\\r\")\n",
        "        time.sleep(1)\n",
        "        t = t-1\n",
        "        \n",
        "      \n",
        "    print('Fire in the hole!!')\n",
        "  \n",
        "  \n",
        "\n",
        "t = input(\"Enter the time in seconds: \")\n",
        "  \n",
        "countdown(int(t))"
      ]
    }
  ]
}